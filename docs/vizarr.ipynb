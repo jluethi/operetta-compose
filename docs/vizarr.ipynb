{
 "cells": [
  {
   "cell_type": "markdown",
   "metadata": {},
   "source": [
    "# View OME-ZARR plates in Vizarr \n",
    "This tutorial demonstrates how to load data generated with [Fractal](https://fractal-analytics-platform.github.io/) into [Vizarr](https://github.com/hms-dbmi/vizarr). "
   ]
  },
  {
   "cell_type": "code",
   "execution_count": 4,
   "metadata": {},
   "outputs": [],
   "source": [
    "import zarr\n",
    "import vizarr\n",
    "import fsspec\n",
    "import requests\n",
    "import zipfile\n",
    "import io\n",
    "from pathlib import Path\n",
    "from typing import Optional\n",
    "\n",
    "def zarr_from_zip(zarr_root: str, row: Optional[str]=None, col: Optional[str]=None):\n",
    "    with requests.get(zarr_root, stream=True) as r:\n",
    "        r.raise_for_status()\n",
    "        with zipfile.ZipFile(io.BytesIO(r.content)) as z:\n",
    "            z.extractall()\n",
    "            stem = Path(zarr_root).stem\n",
    "            if (row is not None) & (col is not None):\n",
    "                zarr_url = f\"{stem}/{row}/{col}\"\n",
    "            else:\n",
    "                zarr_url = stem\n",
    "            store = fsspec.get_mapper(zarr_url)\n",
    "            root = zarr.open(store, mode='r')\n",
    "            return(root)"
   ]
  },
  {
   "cell_type": "code",
   "execution_count": 5,
   "metadata": {},
   "outputs": [],
   "source": [
    "zip_url = \"https://zenodo.org/records/13998404/files/operetta_plate.zarr.zip\"\n",
    "zarr_plate = zarr_from_zip(zip_url, \"C\", \"3\")"
   ]
  },
  {
   "cell_type": "code",
   "execution_count": 6,
   "metadata": {},
   "outputs": [
    {
     "data": {
      "application/vnd.jupyter.widget-view+json": {
       "model_id": "65542086f67542afa525813139c3dcf4",
       "version_major": 2,
       "version_minor": 1
      },
      "text/plain": [
       "Viewer()"
      ]
     },
     "execution_count": 6,
     "metadata": {},
     "output_type": "execute_result"
    }
   ],
   "source": [
    "viewer = vizarr.Viewer()\n",
    "viewer.add_image(source=zarr_plate)\n",
    "viewer"
   ]
  }
 ],
 "metadata": {
  "kernelspec": {
   "display_name": "drp-env",
   "language": "python",
   "name": "python3"
  },
  "language_info": {
   "codemirror_mode": {
    "name": "ipython",
    "version": 3
   },
   "file_extension": ".py",
   "mimetype": "text/x-python",
   "name": "python",
   "nbconvert_exporter": "python",
   "pygments_lexer": "ipython3",
   "version": "3.11.9"
  }
 },
 "nbformat": 4,
 "nbformat_minor": 2
}
