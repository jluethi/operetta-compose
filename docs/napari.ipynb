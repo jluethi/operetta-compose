{
 "cells": [
  {
   "cell_type": "markdown",
   "metadata": {},
   "source": [
    "# View OME-ZARR plates in Napari \n",
    "This tutorial demonstrates how to load data generated with [Fractal](https://fractal-analytics-platform.github.io/) into Napari using [operetta-compose](https://leukemia-kispi.github.io/operetta-compose/) and the [ome-zarr-navigator](https://github.com/fractal-napari-plugins-collection/napari-ome-zarr-navigator)"
   ]
  },
  {
   "cell_type": "markdown",
   "metadata": {},
   "source": [
    "::: {.callout-note}\n",
    "If you use the **napari-feature-classifier** make sure to install `napari=0.4.18` as higher version introduced a change in the colormap update mechanism which currently slows down classification.\n",
    "\n",
    "```{python}\n",
    "conda create -n drp-env python=3.11\n",
    "conda activate drp-env\n",
    "pip install \"napari[all]\"==0.4.18 napari-feature-classifier napari-ome-zarr-navigator napari-feature-visualization\n",
    "```\n",
    "\n",
    ":::"
   ]
  },
  {
   "cell_type": "code",
   "execution_count": 22,
   "metadata": {},
   "outputs": [],
   "source": [
    "import operetta_compose as oc\n",
    "import napari\n",
    "import napari_ome_zarr_navigator\n",
    "from pathlib import Path"
   ]
  },
  {
   "cell_type": "code",
   "execution_count": 27,
   "metadata": {},
   "outputs": [],
   "source": [
    "def add_well(zarr_root: str, row: str, col: str, viewer: napari.viewer.Viewer):\n",
    "    \"\"\"Add a well with labels to the napari viewer\n",
    "\n",
    "    Args:\n",
    "        zarr_root: the base URL of the OME-ZARR\n",
    "        row: the row of the plate to load\n",
    "        col: the column of the plate to load\n",
    "        viewer: an instance of a napari Viewer\n",
    "    \"\"\"\n",
    "    zarr_url = str(Path(f\"{zarr_root}/{row}/{col}/0\").resolve())\n",
    "    roi_url, roi_idx = oc.io.get_roi(zarr_url, \"well_ROI_table\", level=0)\n",
    "    img = oc.io.load_intensity_roi(roi_url, roi_idx)\n",
    "    labels = oc.io.load_label_roi(roi_url, roi_idx)\n",
    "\n",
    "    viewer.add_image(img, name=f\"{row}{col}\")\n",
    "    label_layer = viewer.add_labels(labels, name=f\"{row}{col}_label\")\n",
    "    napari_ome_zarr_navigator.util.add_features_to_labels(zarr_url, label_layer)"
   ]
  },
  {
   "cell_type": "markdown",
   "metadata": {},
   "source": [
    "Start a Napari Viewer and load a predefined well from the OME-Zarr"
   ]
  },
  {
   "cell_type": "code",
   "execution_count": 29,
   "metadata": {},
   "outputs": [],
   "source": [
    "viewer = napari.Viewer()"
   ]
  },
  {
   "cell_type": "code",
   "execution_count": 30,
   "metadata": {},
   "outputs": [],
   "source": [
    "row = \"C\"\n",
    "col = \"3\"\n",
    "zarr_root = \"../../operetta-compose/tests/test_output/operetta_plate.zarr\""
   ]
  },
  {
   "cell_type": "code",
   "execution_count": 32,
   "metadata": {},
   "outputs": [],
   "source": [
    "add_well(zarr_root, row, col, viewer)"
   ]
  },
  {
   "cell_type": "markdown",
   "metadata": {},
   "source": [
    "![](images/napari_segmented_cells.jpg)"
   ]
  },
  {
   "cell_type": "markdown",
   "metadata": {},
   "source": [
    "## Utilities\n",
    "\n",
    "### Inspect the classifier"
   ]
  },
  {
   "cell_type": "code",
   "execution_count": 18,
   "metadata": {},
   "outputs": [],
   "source": [
    "import pickle\n",
    "with open(\"../../operetta-compose/tests/classifier.pkl\", \"rb\") as clf_file:\n",
    "    classifier = pickle.load(clf_file)"
   ]
  },
  {
   "cell_type": "markdown",
   "metadata": {},
   "source": [
    "### Inspect predictions in the regionprops table"
   ]
  },
  {
   "cell_type": "code",
   "execution_count": 17,
   "metadata": {},
   "outputs": [
    {
     "data": {
      "text/html": [
       "<div>\n",
       "<style scoped>\n",
       "    .dataframe tbody tr th:only-of-type {\n",
       "        vertical-align: middle;\n",
       "    }\n",
       "\n",
       "    .dataframe tbody tr th {\n",
       "        vertical-align: top;\n",
       "    }\n",
       "\n",
       "    .dataframe thead th {\n",
       "        text-align: right;\n",
       "    }\n",
       "</style>\n",
       "<table border=\"1\" class=\"dataframe\">\n",
       "  <thead>\n",
       "    <tr style=\"text-align: right;\">\n",
       "      <th></th>\n",
       "      <th>roi_id</th>\n",
       "      <th>label</th>\n",
       "      <th>prediction</th>\n",
       "    </tr>\n",
       "  </thead>\n",
       "  <tbody>\n",
       "    <tr>\n",
       "      <th>0</th>\n",
       "      <td>C3</td>\n",
       "      <td>1</td>\n",
       "      <td>2</td>\n",
       "    </tr>\n",
       "    <tr>\n",
       "      <th>1</th>\n",
       "      <td>C3</td>\n",
       "      <td>2</td>\n",
       "      <td>2</td>\n",
       "    </tr>\n",
       "    <tr>\n",
       "      <th>2</th>\n",
       "      <td>C3</td>\n",
       "      <td>3</td>\n",
       "      <td>1</td>\n",
       "    </tr>\n",
       "    <tr>\n",
       "      <th>3</th>\n",
       "      <td>C3</td>\n",
       "      <td>4</td>\n",
       "      <td>2</td>\n",
       "    </tr>\n",
       "    <tr>\n",
       "      <th>4</th>\n",
       "      <td>C3</td>\n",
       "      <td>5</td>\n",
       "      <td>1</td>\n",
       "    </tr>\n",
       "    <tr>\n",
       "      <th>...</th>\n",
       "      <td>...</td>\n",
       "      <td>...</td>\n",
       "      <td>...</td>\n",
       "    </tr>\n",
       "    <tr>\n",
       "      <th>3630</th>\n",
       "      <td>C3</td>\n",
       "      <td>3631</td>\n",
       "      <td>1</td>\n",
       "    </tr>\n",
       "    <tr>\n",
       "      <th>3631</th>\n",
       "      <td>C3</td>\n",
       "      <td>3632</td>\n",
       "      <td>2</td>\n",
       "    </tr>\n",
       "    <tr>\n",
       "      <th>3632</th>\n",
       "      <td>C3</td>\n",
       "      <td>3633</td>\n",
       "      <td>2</td>\n",
       "    </tr>\n",
       "    <tr>\n",
       "      <th>3633</th>\n",
       "      <td>C3</td>\n",
       "      <td>3634</td>\n",
       "      <td>1</td>\n",
       "    </tr>\n",
       "    <tr>\n",
       "      <th>3634</th>\n",
       "      <td>C3</td>\n",
       "      <td>3635</td>\n",
       "      <td>1</td>\n",
       "    </tr>\n",
       "  </tbody>\n",
       "</table>\n",
       "<p>3635 rows × 3 columns</p>\n",
       "</div>"
      ],
      "text/plain": [
       "     roi_id  label  prediction\n",
       "0        C3      1           2\n",
       "1        C3      2           2\n",
       "2        C3      3           1\n",
       "3        C3      4           2\n",
       "4        C3      5           1\n",
       "...     ...    ...         ...\n",
       "3630     C3   3631           1\n",
       "3631     C3   3632           2\n",
       "3632     C3   3633           2\n",
       "3633     C3   3634           1\n",
       "3634     C3   3635           1\n",
       "\n",
       "[3635 rows x 3 columns]"
      ]
     },
     "execution_count": 17,
     "metadata": {},
     "output_type": "execute_result"
    }
   ],
   "source": [
    "import anndata as ad\n",
    "ad.read_zarr(f\"{zarr_root}/{row}/{col}/0/tables/regionprops\").obs"
   ]
  }
 ],
 "metadata": {
  "kernelspec": {
   "display_name": "operetta-compose-env",
   "language": "python",
   "name": "python3"
  },
  "language_info": {
   "codemirror_mode": {
    "name": "ipython",
    "version": 3
   },
   "file_extension": ".py",
   "mimetype": "text/x-python",
   "name": "python",
   "nbconvert_exporter": "python",
   "pygments_lexer": "ipython3",
   "version": "3.11.9"
  }
 },
 "nbformat": 4,
 "nbformat_minor": 2
}
